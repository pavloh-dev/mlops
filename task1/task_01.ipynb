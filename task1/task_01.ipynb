{
 "cells": [
  {
   "cell_type": "code",
   "execution_count": 3,
   "id": "cff981c0-2121-4a0e-886f-2bd5065ad3e3",
   "metadata": {},
   "outputs": [],
   "source": [
    "# Task description: https://github.com/DataTalksClub/mlops-zoomcamp/blob/main/cohorts/2024/01-intro/homework.md"
   ]
  },
  {
   "cell_type": "code",
   "execution_count": 6,
   "id": "4424533b-2a07-433a-b349-4429dd590e5b",
   "metadata": {},
   "outputs": [
    {
     "name": "stdout",
     "output_type": "stream",
     "text": [
      "Collecting pandas\n",
      "  Obtaining dependency information for pandas from https://files.pythonhosted.org/packages/31/9e/6ebb433de864a6cd45716af52a4d7a8c3c9aaf3a98368e61db9e69e69a9c/pandas-2.2.3-cp310-cp310-win_amd64.whl.metadata\n",
      "  Using cached pandas-2.2.3-cp310-cp310-win_amd64.whl.metadata (19 kB)\n",
      "Collecting scikit-learn\n",
      "  Obtaining dependency information for scikit-learn from https://files.pythonhosted.org/packages/17/04/d5d556b6c88886c092cc989433b2bab62488e0f0dafe616a1d5c9cb0efb1/scikit_learn-1.6.1-cp310-cp310-win_amd64.whl.metadata\n",
      "  Downloading scikit_learn-1.6.1-cp310-cp310-win_amd64.whl.metadata (15 kB)\n",
      "Collecting pyarrow\n",
      "  Obtaining dependency information for pyarrow from https://files.pythonhosted.org/packages/54/e3/d5cfd7654084e6c0d9c3ce949e5d9e0ccad569ae1e2d5a68a3ec03b2be89/pyarrow-19.0.1-cp310-cp310-win_amd64.whl.metadata\n",
      "  Downloading pyarrow-19.0.1-cp310-cp310-win_amd64.whl.metadata (3.4 kB)\n",
      "Collecting fastparquet\n",
      "  Obtaining dependency information for fastparquet from https://files.pythonhosted.org/packages/70/c0/1374cb43924739f4542e39d972481c1f4c7dd96808a1947450808e4e7df7/fastparquet-2024.11.0-cp310-cp310-win_amd64.whl.metadata\n",
      "  Downloading fastparquet-2024.11.0-cp310-cp310-win_amd64.whl.metadata (4.3 kB)\n",
      "Collecting numpy>=1.22.4 (from pandas)\n",
      "  Obtaining dependency information for numpy>=1.22.4 from https://files.pythonhosted.org/packages/01/e3/cb04627bc2a1638948bc13e818df26495aa18e20d5be1ed95ab2b10b6847/numpy-2.2.4-cp310-cp310-win_amd64.whl.metadata\n",
      "  Downloading numpy-2.2.4-cp310-cp310-win_amd64.whl.metadata (60 kB)\n",
      "     ---------------------------------------- 0.0/60.8 kB ? eta -:--:--\n",
      "     ------------------------- ------------ 41.0/60.8 kB 991.0 kB/s eta 0:00:01\n",
      "     ---------------------------------------- 60.8/60.8 kB 1.6 MB/s eta 0:00:00\n",
      "Requirement already satisfied: python-dateutil>=2.8.2 in c:\\users\\kiev-\\appdata\\local\\programs\\python\\python310\\lib\\site-packages (from pandas) (2.9.0.post0)\n",
      "Collecting pytz>=2020.1 (from pandas)\n",
      "  Obtaining dependency information for pytz>=2020.1 from https://files.pythonhosted.org/packages/eb/38/ac33370d784287baa1c3d538978b5e2ea064d4c1b93ffbd12826c190dd10/pytz-2025.1-py2.py3-none-any.whl.metadata\n",
      "  Downloading pytz-2025.1-py2.py3-none-any.whl.metadata (22 kB)\n",
      "Collecting tzdata>=2022.7 (from pandas)\n",
      "  Obtaining dependency information for tzdata>=2022.7 from https://files.pythonhosted.org/packages/0f/dd/84f10e23edd882c6f968c21c2434fe67bd4a528967067515feca9e611e5e/tzdata-2025.1-py2.py3-none-any.whl.metadata\n",
      "  Downloading tzdata-2025.1-py2.py3-none-any.whl.metadata (1.4 kB)\n",
      "Collecting scipy>=1.6.0 (from scikit-learn)\n",
      "  Obtaining dependency information for scipy>=1.6.0 from https://files.pythonhosted.org/packages/d0/d2/f0683b7e992be44d1475cc144d1f1eeae63c73a14f862974b4db64af635e/scipy-1.15.2-cp310-cp310-win_amd64.whl.metadata\n",
      "  Downloading scipy-1.15.2-cp310-cp310-win_amd64.whl.metadata (60 kB)\n",
      "     ---------------------------------------- 0.0/60.8 kB ? eta -:--:--\n",
      "     ---------------------------------------- 60.8/60.8 kB 3.2 MB/s eta 0:00:00\n",
      "Collecting joblib>=1.2.0 (from scikit-learn)\n",
      "  Obtaining dependency information for joblib>=1.2.0 from https://files.pythonhosted.org/packages/91/29/df4b9b42f2be0b623cbd5e2140cafcaa2bef0759a00b7b70104dcfe2fb51/joblib-1.4.2-py3-none-any.whl.metadata\n",
      "  Downloading joblib-1.4.2-py3-none-any.whl.metadata (5.4 kB)\n",
      "Collecting threadpoolctl>=3.1.0 (from scikit-learn)\n",
      "  Obtaining dependency information for threadpoolctl>=3.1.0 from https://files.pythonhosted.org/packages/32/d5/f9a850d79b0851d1d4ef6456097579a9005b31fea68726a4ae5f2d82ddd9/threadpoolctl-3.6.0-py3-none-any.whl.metadata\n",
      "  Downloading threadpoolctl-3.6.0-py3-none-any.whl.metadata (13 kB)\n",
      "Collecting cramjam>=2.3 (from fastparquet)\n",
      "  Obtaining dependency information for cramjam>=2.3 from https://files.pythonhosted.org/packages/8e/f4/32639916897d59e94d286b5b22263ce8c2903ecc93a868ebe9443ece8f12/cramjam-2.9.1-cp310-cp310-win_amd64.whl.metadata\n",
      "  Downloading cramjam-2.9.1-cp310-cp310-win_amd64.whl.metadata (5.0 kB)\n",
      "Collecting fsspec (from fastparquet)\n",
      "  Obtaining dependency information for fsspec from https://files.pythonhosted.org/packages/56/53/eb690efa8513166adef3e0669afd31e95ffde69fb3c52ec2ac7223ed6018/fsspec-2025.3.0-py3-none-any.whl.metadata\n",
      "  Downloading fsspec-2025.3.0-py3-none-any.whl.metadata (11 kB)\n",
      "Requirement already satisfied: packaging in c:\\users\\kiev-\\appdata\\local\\programs\\python\\python310\\lib\\site-packages (from fastparquet) (24.2)\n",
      "Requirement already satisfied: six>=1.5 in c:\\users\\kiev-\\appdata\\local\\programs\\python\\python310\\lib\\site-packages (from python-dateutil>=2.8.2->pandas) (1.16.0)\n",
      "Using cached pandas-2.2.3-cp310-cp310-win_amd64.whl (11.6 MB)\n",
      "Downloading scikit_learn-1.6.1-cp310-cp310-win_amd64.whl (11.1 MB)\n",
      "   ---------------------------------------- 0.0/11.1 MB ? eta -:--:--\n",
      "    --------------------------------------- 0.2/11.1 MB 3.9 MB/s eta 0:00:03\n",
      "   -- ------------------------------------- 0.6/11.1 MB 6.3 MB/s eta 0:00:02\n",
      "   ----- ---------------------------------- 1.6/11.1 MB 11.1 MB/s eta 0:00:01\n",
      "   ------------ --------------------------- 3.5/11.1 MB 18.7 MB/s eta 0:00:01\n",
      "   --------------------- ------------------ 5.9/11.1 MB 25.4 MB/s eta 0:00:01\n",
      "   --------------------- ------------------ 5.9/11.1 MB 25.4 MB/s eta 0:00:01\n",
      "   --------------------- ------------------ 5.9/11.1 MB 25.4 MB/s eta 0:00:01\n",
      "   --------------------- ------------------ 6.0/11.1 MB 16.6 MB/s eta 0:00:01\n",
      "   --------------------- ------------------ 6.0/11.1 MB 15.3 MB/s eta 0:00:01\n",
      "   --------------------- ------------------ 6.1/11.1 MB 13.0 MB/s eta 0:00:01\n",
      "   --------------------- ------------------ 6.1/11.1 MB 12.2 MB/s eta 0:00:01\n",
      "   ---------------------- ----------------- 6.1/11.1 MB 11.2 MB/s eta 0:00:01\n",
      "   ---------------------- ----------------- 6.2/11.1 MB 10.7 MB/s eta 0:00:01\n",
      "   ---------------------- ----------------- 6.4/11.1 MB 9.7 MB/s eta 0:00:01\n",
      "   ----------------------- ---------------- 6.6/11.1 MB 9.5 MB/s eta 0:00:01\n",
      "   ----------------------- ---------------- 6.6/11.1 MB 9.2 MB/s eta 0:00:01\n",
      "   ------------------------ --------------- 6.8/11.1 MB 8.5 MB/s eta 0:00:01\n",
      "   ------------------------ --------------- 6.9/11.1 MB 8.2 MB/s eta 0:00:01\n",
      "   ------------------------- -------------- 7.1/11.1 MB 8.1 MB/s eta 0:00:01\n",
      "   ------------------------- -------------- 7.2/11.1 MB 8.0 MB/s eta 0:00:01\n",
      "   --------------------------- ------------ 7.6/11.1 MB 7.7 MB/s eta 0:00:01\n",
      "   ---------------------------- ----------- 7.9/11.1 MB 7.7 MB/s eta 0:00:01\n",
      "   ----------------------------- ---------- 8.2/11.1 MB 7.7 MB/s eta 0:00:01\n",
      "   ------------------------------ --------- 8.5/11.1 MB 7.7 MB/s eta 0:00:01\n",
      "   --------------------------------- ------ 9.2/11.1 MB 7.8 MB/s eta 0:00:01\n",
      "   ----------------------------------- ---- 9.8/11.1 MB 8.0 MB/s eta 0:00:01\n",
      "   ------------------------------------ --- 10.1/11.1 MB 8.1 MB/s eta 0:00:01\n",
      "   -------------------------------------- - 10.8/11.1 MB 8.5 MB/s eta 0:00:01\n",
      "   -------------------------------------- - 10.8/11.1 MB 8.5 MB/s eta 0:00:01\n",
      "   -------------------------------------- - 10.8/11.1 MB 8.5 MB/s eta 0:00:01\n",
      "   -------------------------------------- - 10.8/11.1 MB 7.5 MB/s eta 0:00:01\n",
      "   ---------------------------------------  10.9/11.1 MB 7.4 MB/s eta 0:00:01\n",
      "   ---------------------------------------  10.9/11.1 MB 7.2 MB/s eta 0:00:01\n",
      "   ---------------------------------------  11.0/11.1 MB 7.0 MB/s eta 0:00:01\n",
      "   ---------------------------------------  11.1/11.1 MB 6.8 MB/s eta 0:00:01\n",
      "   ---------------------------------------  11.1/11.1 MB 6.8 MB/s eta 0:00:01\n",
      "   ---------------------------------------- 11.1/11.1 MB 6.4 MB/s eta 0:00:00\n",
      "Using cached pyarrow-19.0.1-cp310-cp310-win_amd64.whl (25.3 MB)\n",
      "Using cached fastparquet-2024.11.0-cp310-cp310-win_amd64.whl (670 kB)\n",
      "Using cached cramjam-2.9.1-cp310-cp310-win_amd64.whl (2.1 MB)\n",
      "Using cached joblib-1.4.2-py3-none-any.whl (301 kB)\n",
      "Downloading numpy-2.2.4-cp310-cp310-win_amd64.whl (12.9 MB)\n",
      "   ---------------------------------------- 0.0/12.9 MB ? eta -:--:--\n",
      "   ----------- ---------------------------- 3.9/12.9 MB 123.9 MB/s eta 0:00:01\n",
      "   ------------------------ --------------- 7.9/12.9 MB 100.7 MB/s eta 0:00:01\n",
      "   ------------------------------------ --- 11.9/12.9 MB 81.8 MB/s eta 0:00:01\n",
      "   ---------------------------------------  12.9/12.9 MB 81.8 MB/s eta 0:00:01\n",
      "   ---------------------------------------  12.9/12.9 MB 81.8 MB/s eta 0:00:01\n",
      "   ---------------------------------------  12.9/12.9 MB 81.8 MB/s eta 0:00:01\n",
      "   ---------------------------------------- 12.9/12.9 MB 40.9 MB/s eta 0:00:00\n",
      "Using cached pytz-2025.1-py2.py3-none-any.whl (507 kB)\n",
      "Downloading scipy-1.15.2-cp310-cp310-win_amd64.whl (41.2 MB)\n",
      "   ---------------------------------------- 0.0/41.2 MB ? eta -:--:--\n",
      "   -- ------------------------------------- 2.7/41.2 MB 86.5 MB/s eta 0:00:01\n",
      "   ----- ---------------------------------- 5.8/41.2 MB 61.8 MB/s eta 0:00:01\n",
      "   ---------- ----------------------------- 10.4/41.2 MB 72.6 MB/s eta 0:00:01\n",
      "   ------------ --------------------------- 13.2/41.2 MB 93.9 MB/s eta 0:00:01\n",
      "   --------------- ------------------------ 15.8/41.2 MB 73.1 MB/s eta 0:00:01\n",
      "   ------------------ --------------------- 18.8/41.2 MB 59.5 MB/s eta 0:00:01\n",
      "   -------------------- ------------------- 21.6/41.2 MB 59.5 MB/s eta 0:00:01\n",
      "   ----------------------- ---------------- 24.5/41.2 MB 59.5 MB/s eta 0:00:01\n",
      "   -------------------------- ------------- 27.2/41.2 MB 59.5 MB/s eta 0:00:01\n",
      "   ----------------------------- ---------- 29.9/41.2 MB 59.5 MB/s eta 0:00:01\n",
      "   ------------------------------- -------- 32.7/41.2 MB 59.5 MB/s eta 0:00:01\n",
      "   ---------------------------------- ----- 35.4/41.2 MB 59.8 MB/s eta 0:00:01\n",
      "   ------------------------------------- -- 38.2/41.2 MB 59.5 MB/s eta 0:00:01\n",
      "   ---------------------------------------  41.2/41.2 MB 59.5 MB/s eta 0:00:01\n",
      "   ---------------------------------------  41.2/41.2 MB 59.5 MB/s eta 0:00:01\n",
      "   ---------------------------------------  41.2/41.2 MB 59.5 MB/s eta 0:00:01\n",
      "   ---------------------------------------  41.2/41.2 MB 59.5 MB/s eta 0:00:01\n",
      "   ---------------------------------------- 41.2/41.2 MB 31.2 MB/s eta 0:00:00\n",
      "Downloading threadpoolctl-3.6.0-py3-none-any.whl (18 kB)\n",
      "Using cached tzdata-2025.1-py2.py3-none-any.whl (346 kB)\n",
      "Downloading fsspec-2025.3.0-py3-none-any.whl (193 kB)\n",
      "   ---------------------------------------- 0.0/193.6 kB ? eta -:--:--\n",
      "   ---------------------------------------- 193.6/193.6 kB ? eta 0:00:00\n",
      "Installing collected packages: pytz, tzdata, threadpoolctl, pyarrow, numpy, joblib, fsspec, cramjam, scipy, pandas, scikit-learn, fastparquet\n",
      "Successfully installed cramjam-2.9.1 fastparquet-2024.11.0 fsspec-2025.3.0 joblib-1.4.2 numpy-2.2.4 pandas-2.2.3 pyarrow-19.0.1 pytz-2025.1 scikit-learn-1.6.1 scipy-1.15.2 threadpoolctl-3.6.0 tzdata-2025.1\n"
     ]
    },
    {
     "name": "stderr",
     "output_type": "stream",
     "text": [
      "\n",
      "[notice] A new release of pip is available: 23.2.1 -> 25.0.1\n",
      "[notice] To update, run: python.exe -m pip install --upgrade pip\n"
     ]
    }
   ],
   "source": [
    "!pip install pandas scikit-learn pyarrow fastparquet"
   ]
  },
  {
   "cell_type": "code",
   "execution_count": 27,
   "id": "2f588d1a-d9fd-424d-8d0e-71a0b7ddbaa0",
   "metadata": {},
   "outputs": [],
   "source": [
    "import pandas as pd\n",
    "import numpy as np\n",
    "from sklearn.feature_extraction import DictVectorizer\n",
    "from sklearn.linear_model import LinearRegression\n",
    "from sklearn.metrics import mean_squared_error\n",
    "\n",
    "train_file = \"yellow_tripdata_2023-01.parquet\"\n",
    "val_file = \"yellow_tripdata_2023-02.parquet\"\n",
    "df_train = pd.read_parquet(train_file)\n",
    "df_val = pd.read_parquet(val_file)"
   ]
  },
  {
   "cell_type": "code",
   "execution_count": 28,
   "id": "d1d381f4-771b-4261-827d-8e3f21d82888",
   "metadata": {},
   "outputs": [
    {
     "name": "stdout",
     "output_type": "stream",
     "text": [
      "Q1: Number of columns in January dataset: 19\n"
     ]
    }
   ],
   "source": [
    "# Q1: Number of columns\n",
    "print(f\"Q1: Number of columns in January dataset: {df_train.shape[1]}\") "
   ]
  },
  {
   "cell_type": "code",
   "execution_count": 29,
   "id": "2e296d22-24f6-49b5-b182-8ecbaa7b22e3",
   "metadata": {},
   "outputs": [
    {
     "name": "stdout",
     "output_type": "stream",
     "text": [
      "Q2: Std. deviation of duration: 42.59\n"
     ]
    }
   ],
   "source": [
    "# Q2: Duration computation\n",
    "df_train['duration'] = (\n",
    "    pd.to_datetime(df_train['tpep_dropoff_datetime']) -\n",
    "    pd.to_datetime(df_train['tpep_pickup_datetime'])\n",
    ").dt.total_seconds() / 60\n",
    "std_duration = df_train['duration'].std()\n",
    "print(f\"Q2: Std. deviation of duration: {std_duration:.2f}\")"
   ]
  },
  {
   "cell_type": "code",
   "execution_count": 30,
   "id": "7698c5c5-ddd6-4a40-a6f9-e6383f6029c5",
   "metadata": {},
   "outputs": [
    {
     "name": "stdout",
     "output_type": "stream",
     "text": [
      "Q3: Fraction of records left after dropping outliers: 98%\n"
     ]
    }
   ],
   "source": [
    "# Q3: Dropping outliers (duration between 1 and 60)\n",
    "initial_count = df_train.shape[0]\n",
    "df_train = df_train[(df_train.duration >= 1) & (df_train.duration <= 60)]\n",
    "filtered_count = df_train.shape[0]\n",
    "fraction_left = filtered_count / initial_count * 100\n",
    "print(f\"Q3: Fraction of records left after dropping outliers: {fraction_left:.0f}%\") "
   ]
  },
  {
   "cell_type": "code",
   "execution_count": 31,
   "id": "383ccc5a-95cb-48ec-b7ff-96c0d7d7b912",
   "metadata": {},
   "outputs": [
    {
     "name": "stdout",
     "output_type": "stream",
     "text": [
      "Q4: Dimensionality of feature matrix: 515\n"
     ]
    }
   ],
   "source": [
    "# Q4: One-hot encoding pickup/dropoff IDs\n",
    "df_train['PULocationID'] = df_train['PULocationID'].astype(str)\n",
    "df_train['DOLocationID'] = df_train['DOLocationID'].astype(str)\n",
    "\n",
    "dv = DictVectorizer()\n",
    "train_dicts = df_train[['PULocationID', 'DOLocationID']].to_dict(orient='records')\n",
    "X_train = dv.fit_transform(train_dicts)\n",
    "print(f\"Q4: Dimensionality of feature matrix: {X_train.shape[1]}\") "
   ]
  },
  {
   "cell_type": "code",
   "execution_count": 32,
   "id": "e88f9d40-cfc2-4fd2-a2d3-df9d8d4a5634",
   "metadata": {},
   "outputs": [
    {
     "name": "stdout",
     "output_type": "stream",
     "text": [
      "Q5: RMSE on training data: 7.65\n"
     ]
    }
   ],
   "source": [
    "# Q5: Training linear regression\n",
    "y_train = df_train.duration.values\n",
    "lr = LinearRegression()\n",
    "lr.fit(X_train, y_train)\n",
    "\n",
    "y_pred_train = lr.predict(X_train)\n",
    "rmse_train = np.sqrt(mean_squared_error(y_train, y_pred_train))\n",
    "print(f\"Q5: RMSE on training data: {rmse_train:.2f}\")"
   ]
  },
  {
   "cell_type": "code",
   "execution_count": 33,
   "id": "a25097e4-3445-4e3e-8bd2-9cdf06e2fe90",
   "metadata": {},
   "outputs": [
    {
     "name": "stdout",
     "output_type": "stream",
     "text": [
      "Q6: RMSE on validation data: 7.81\n"
     ]
    }
   ],
   "source": [
    "# Q6: Validation set preparation and evaluation\n",
    "df_val['duration'] = (\n",
    "    pd.to_datetime(df_val['tpep_dropoff_datetime']) -\n",
    "    pd.to_datetime(df_val['tpep_pickup_datetime'])\n",
    ").dt.total_seconds() / 60\n",
    "\n",
    "# Validation outlier filtering\n",
    "df_val = df_val[(df_val.duration >= 1) & (df_val.duration <= 60)]\n",
    "\n",
    "# Validation feature encoding\n",
    "df_val['PULocationID'] = df_val['PULocationID'].astype(str)\n",
    "df_val['DOLocationID'] = df_val['DOLocationID'].astype(str)\n",
    "val_dicts = df_val[['PULocationID', 'DOLocationID']].to_dict(orient='records')\n",
    "X_val = dv.transform(val_dicts)\n",
    "y_val = df_val.duration.values\n",
    "\n",
    "# Validation prediction\n",
    "y_pred_val = lr.predict(X_val)\n",
    "rmse_val = np.sqrt(mean_squared_error(y_val, y_pred_val))\n",
    "print(f\"Q6: RMSE on validation data: {rmse_val:.2f}\")"
   ]
  },
  {
   "cell_type": "code",
   "execution_count": null,
   "id": "c56715ed-bb67-4c64-8bf0-d6b20989a60f",
   "metadata": {},
   "outputs": [],
   "source": [
    "# homework check https://courses.datatalks.club/mlops-zoomcamp-2024/homework/hw1"
   ]
  }
 ],
 "metadata": {
  "kernelspec": {
   "display_name": "Python 3 (ipykernel)",
   "language": "python",
   "name": "python3"
  },
  "language_info": {
   "codemirror_mode": {
    "name": "ipython",
    "version": 3
   },
   "file_extension": ".py",
   "mimetype": "text/x-python",
   "name": "python",
   "nbconvert_exporter": "python",
   "pygments_lexer": "ipython3",
   "version": "3.10.0"
  }
 },
 "nbformat": 4,
 "nbformat_minor": 5
}
